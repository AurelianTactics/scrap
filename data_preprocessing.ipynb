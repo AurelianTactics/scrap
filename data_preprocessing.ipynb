{
 "cells": [
  {
   "cell_type": "code",
   "execution_count": null,
   "metadata": {
    "collapsed": true
   },
   "outputs": [],
   "source": [
    "#I don't think I'll need a new indicator for customer variable or for new run. \n",
    "    #think order_id and an indicator in days_since prior order will suffice\n",
    "\n",
    "#customer level data\n",
    "#order number, order_dow, order_hour_of_day,days_since_prior_order\n",
    "#need to substitue a value for days_since_prior_order where it is an NA\n",
    "\n",
    "#product level data\n",
    "#product_id, aisle_id, department_id\n",
    "    #not doing reordered or add_to_cart_order as RNN can pick up on those the way I'm doing batches\n",
    "    #unsure how to work in aisle_id and department_id to the embeddings\n",
    "    #thinking I should initialize them as random uniform around those clusters\n",
    "        #maybe one hot the aisle and department id, let the rest be random uniform\n",
    "        #do that for like first 10th of embedding dim be department_id, 2nd 10th be aisle_id\n",
    "\n",
    "#to do\n",
    "#df_orders: drop order_id, user_id, eval_set but still want to be able to link them\n",
    "#guess I need some sort of get batch function that iters over the user_id and order number to get this info.\n",
    "#ie given the user_id,\n",
    "\n",
    "#products\n",
    "#do the advanced embedding (ie with department and aisle id) if you can get the rest set up\n",
    "#need to set up the inputs and the targets\n",
    "#want an end of order character\n",
    "#so flip, transpose, and add a end of order character\n",
    "#work this into the get_batches thing\n",
    "\n",
    "#uncertain of:\n",
    "#memory constraints: can i hold all the files as loaded as I get bachtes through them? hopefully yes"
   ]
  },
  {
   "cell_type": "code",
   "execution_count": 1,
   "metadata": {
    "collapsed": true
   },
   "outputs": [],
   "source": [
    "import numpy as np\n",
    "import pandas as pd"
   ]
  },
  {
   "cell_type": "code",
   "execution_count": 2,
   "metadata": {
    "collapsed": true
   },
   "outputs": [],
   "source": [
    "df_orders = pd.read_csv(\"orders.csv/orders.csv\")\n",
    "df_prior = pd.read_csv(\"order_products__prior.csv/order_products__prior.csv\")\n",
    "df_train = pd.read_csv(\"order_products__train.csv/order_products__train.csv\")\n",
    "\n",
    "#df_products = \n",
    "#df_aisles = pd.read_csv(\"aisles.csv/aisles.csv\")\n",
    "#df_departments = pd.read_csv(\"departments.csv/departments.csv\")"
   ]
  },
  {
   "cell_type": "code",
   "execution_count": 3,
   "metadata": {
    "collapsed": false
   },
   "outputs": [
    {
     "data": {
      "text/html": [
       "<div>\n",
       "<table border=\"1\" class=\"dataframe\">\n",
       "  <thead>\n",
       "    <tr style=\"text-align: right;\">\n",
       "      <th></th>\n",
       "      <th>order_id</th>\n",
       "      <th>user_id</th>\n",
       "      <th>eval_set</th>\n",
       "      <th>order_number</th>\n",
       "      <th>order_dow</th>\n",
       "      <th>order_hour_of_day</th>\n",
       "      <th>days_since_prior_order</th>\n",
       "    </tr>\n",
       "  </thead>\n",
       "  <tbody>\n",
       "    <tr>\n",
       "      <th>0</th>\n",
       "      <td>2539329</td>\n",
       "      <td>1</td>\n",
       "      <td>prior</td>\n",
       "      <td>1</td>\n",
       "      <td>2</td>\n",
       "      <td>8</td>\n",
       "      <td>NaN</td>\n",
       "    </tr>\n",
       "    <tr>\n",
       "      <th>1</th>\n",
       "      <td>2398795</td>\n",
       "      <td>1</td>\n",
       "      <td>prior</td>\n",
       "      <td>2</td>\n",
       "      <td>3</td>\n",
       "      <td>7</td>\n",
       "      <td>15.0</td>\n",
       "    </tr>\n",
       "    <tr>\n",
       "      <th>2</th>\n",
       "      <td>473747</td>\n",
       "      <td>1</td>\n",
       "      <td>prior</td>\n",
       "      <td>3</td>\n",
       "      <td>3</td>\n",
       "      <td>12</td>\n",
       "      <td>21.0</td>\n",
       "    </tr>\n",
       "    <tr>\n",
       "      <th>3</th>\n",
       "      <td>2254736</td>\n",
       "      <td>1</td>\n",
       "      <td>prior</td>\n",
       "      <td>4</td>\n",
       "      <td>4</td>\n",
       "      <td>7</td>\n",
       "      <td>29.0</td>\n",
       "    </tr>\n",
       "    <tr>\n",
       "      <th>4</th>\n",
       "      <td>431534</td>\n",
       "      <td>1</td>\n",
       "      <td>prior</td>\n",
       "      <td>5</td>\n",
       "      <td>4</td>\n",
       "      <td>15</td>\n",
       "      <td>28.0</td>\n",
       "    </tr>\n",
       "  </tbody>\n",
       "</table>\n",
       "</div>"
      ],
      "text/plain": [
       "   order_id  user_id eval_set  order_number  order_dow  order_hour_of_day  \\\n",
       "0   2539329        1    prior             1          2                  8   \n",
       "1   2398795        1    prior             2          3                  7   \n",
       "2    473747        1    prior             3          3                 12   \n",
       "3   2254736        1    prior             4          4                  7   \n",
       "4    431534        1    prior             5          4                 15   \n",
       "\n",
       "   days_since_prior_order  \n",
       "0                     NaN  \n",
       "1                    15.0  \n",
       "2                    21.0  \n",
       "3                    29.0  \n",
       "4                    28.0  "
      ]
     },
     "execution_count": 3,
     "metadata": {},
     "output_type": "execute_result"
    }
   ],
   "source": [
    "df_orders.head()"
   ]
  },
  {
   "cell_type": "code",
   "execution_count": 4,
   "metadata": {
    "collapsed": false
   },
   "outputs": [
    {
     "data": {
      "text/html": [
       "<div>\n",
       "<table border=\"1\" class=\"dataframe\">\n",
       "  <thead>\n",
       "    <tr style=\"text-align: right;\">\n",
       "      <th></th>\n",
       "      <th>order_id</th>\n",
       "      <th>product_id</th>\n",
       "      <th>add_to_cart_order</th>\n",
       "      <th>reordered</th>\n",
       "    </tr>\n",
       "  </thead>\n",
       "  <tbody>\n",
       "    <tr>\n",
       "      <th>0</th>\n",
       "      <td>2</td>\n",
       "      <td>33120</td>\n",
       "      <td>1</td>\n",
       "      <td>1</td>\n",
       "    </tr>\n",
       "    <tr>\n",
       "      <th>1</th>\n",
       "      <td>2</td>\n",
       "      <td>28985</td>\n",
       "      <td>2</td>\n",
       "      <td>1</td>\n",
       "    </tr>\n",
       "    <tr>\n",
       "      <th>2</th>\n",
       "      <td>2</td>\n",
       "      <td>9327</td>\n",
       "      <td>3</td>\n",
       "      <td>0</td>\n",
       "    </tr>\n",
       "    <tr>\n",
       "      <th>3</th>\n",
       "      <td>2</td>\n",
       "      <td>45918</td>\n",
       "      <td>4</td>\n",
       "      <td>1</td>\n",
       "    </tr>\n",
       "    <tr>\n",
       "      <th>4</th>\n",
       "      <td>2</td>\n",
       "      <td>30035</td>\n",
       "      <td>5</td>\n",
       "      <td>0</td>\n",
       "    </tr>\n",
       "  </tbody>\n",
       "</table>\n",
       "</div>"
      ],
      "text/plain": [
       "   order_id  product_id  add_to_cart_order  reordered\n",
       "0         2       33120                  1          1\n",
       "1         2       28985                  2          1\n",
       "2         2        9327                  3          0\n",
       "3         2       45918                  4          1\n",
       "4         2       30035                  5          0"
      ]
     },
     "execution_count": 4,
     "metadata": {},
     "output_type": "execute_result"
    }
   ],
   "source": [
    "df_prior.head()"
   ]
  },
  {
   "cell_type": "code",
   "execution_count": 40,
   "metadata": {
    "collapsed": false
   },
   "outputs": [
    {
     "data": {
      "text/plain": [
       "0    33120\n",
       "1    28985\n",
       "2     9327\n",
       "3    45918\n",
       "4    30035\n",
       "5    17794\n",
       "6    40141\n",
       "7     1819\n",
       "8    43668\n",
       "Name: product_id, dtype: int64"
      ]
     },
     "execution_count": 40,
     "metadata": {},
     "output_type": "execute_result"
    }
   ],
   "source": [
    "df_prior['product_id'][df_prior['order_id'] == 2]"
   ]
  },
  {
   "cell_type": "code",
   "execution_count": 5,
   "metadata": {
    "collapsed": false
   },
   "outputs": [
    {
     "data": {
      "text/html": [
       "<div>\n",
       "<table border=\"1\" class=\"dataframe\">\n",
       "  <thead>\n",
       "    <tr style=\"text-align: right;\">\n",
       "      <th></th>\n",
       "      <th>order_id</th>\n",
       "      <th>product_id</th>\n",
       "      <th>add_to_cart_order</th>\n",
       "      <th>reordered</th>\n",
       "    </tr>\n",
       "  </thead>\n",
       "  <tbody>\n",
       "    <tr>\n",
       "      <th>0</th>\n",
       "      <td>1</td>\n",
       "      <td>49302</td>\n",
       "      <td>1</td>\n",
       "      <td>1</td>\n",
       "    </tr>\n",
       "    <tr>\n",
       "      <th>1</th>\n",
       "      <td>1</td>\n",
       "      <td>11109</td>\n",
       "      <td>2</td>\n",
       "      <td>1</td>\n",
       "    </tr>\n",
       "    <tr>\n",
       "      <th>2</th>\n",
       "      <td>1</td>\n",
       "      <td>10246</td>\n",
       "      <td>3</td>\n",
       "      <td>0</td>\n",
       "    </tr>\n",
       "    <tr>\n",
       "      <th>3</th>\n",
       "      <td>1</td>\n",
       "      <td>49683</td>\n",
       "      <td>4</td>\n",
       "      <td>0</td>\n",
       "    </tr>\n",
       "    <tr>\n",
       "      <th>4</th>\n",
       "      <td>1</td>\n",
       "      <td>43633</td>\n",
       "      <td>5</td>\n",
       "      <td>1</td>\n",
       "    </tr>\n",
       "  </tbody>\n",
       "</table>\n",
       "</div>"
      ],
      "text/plain": [
       "   order_id  product_id  add_to_cart_order  reordered\n",
       "0         1       49302                  1          1\n",
       "1         1       11109                  2          1\n",
       "2         1       10246                  3          0\n",
       "3         1       49683                  4          0\n",
       "4         1       43633                  5          1"
      ]
     },
     "execution_count": 5,
     "metadata": {},
     "output_type": "execute_result"
    }
   ],
   "source": [
    "df_train.head()"
   ]
  },
  {
   "cell_type": "code",
   "execution_count": 12,
   "metadata": {
    "collapsed": false
   },
   "outputs": [
    {
     "data": {
      "text/html": [
       "<div>\n",
       "<table border=\"1\" class=\"dataframe\">\n",
       "  <thead>\n",
       "    <tr style=\"text-align: right;\">\n",
       "      <th></th>\n",
       "      <th>order_id</th>\n",
       "      <th>user_id</th>\n",
       "      <th>eval_set</th>\n",
       "      <th>order_number</th>\n",
       "      <th>order_dow</th>\n",
       "      <th>order_hour_of_day</th>\n",
       "      <th>days_since_prior_order</th>\n",
       "    </tr>\n",
       "  </thead>\n",
       "  <tbody>\n",
       "    <tr>\n",
       "      <th>3355525</th>\n",
       "      <td>2</td>\n",
       "      <td>202279</td>\n",
       "      <td>prior</td>\n",
       "      <td>3</td>\n",
       "      <td>5</td>\n",
       "      <td>9</td>\n",
       "      <td>8.0</td>\n",
       "    </tr>\n",
       "  </tbody>\n",
       "</table>\n",
       "</div>"
      ],
      "text/plain": [
       "         order_id  user_id eval_set  order_number  order_dow  \\\n",
       "3355525         2   202279    prior             3          5   \n",
       "\n",
       "         order_hour_of_day  days_since_prior_order  \n",
       "3355525                  9                     8.0  "
      ]
     },
     "execution_count": 12,
     "metadata": {},
     "output_type": "execute_result"
    }
   ],
   "source": [
    "#df_train[df_train['order_id'] == 1]\n",
    "#df_prior[df_prior['order_id'] == 2]\n",
    "#df_orders[df_orders['order_id'] == 2]"
   ]
  },
  {
   "cell_type": "code",
   "execution_count": null,
   "metadata": {
    "collapsed": true
   },
   "outputs": [],
   "source": []
  },
  {
   "cell_type": "code",
   "execution_count": 64,
   "metadata": {
    "collapsed": false
   },
   "outputs": [
    {
     "name": "stdout",
     "output_type": "stream",
     "text": [
      "[[1, 5, 1, 6, 9, 0], [1, 5, 1, 6, 9, 0]]\n"
     ]
    }
   ],
   "source": [
    "#test = [1,[5,1,6,9,0]]\n",
    "test = []\n",
    "test.append([1,5,1,6,9,0])\n",
    "test.append([1,5,1,6,9,0])\n",
    "#test = [1,5,1,6,9,0]\n",
    "print(test)\n",
    "a = np.asarray(test,dtype=np.int32)\n",
    "np.savetxt(\"foo.csv\", a, delimiter=\",\",fmt='%i')"
   ]
  },
  {
   "cell_type": "code",
   "execution_count": null,
   "metadata": {
    "collapsed": true
   },
   "outputs": [],
   "source": [
    "#max for priors days before is 30, so for first order saying it is -30\n",
    "\n"
   ]
  },
  {
   "cell_type": "code",
   "execution_count": null,
   "metadata": {
    "collapsed": true
   },
   "outputs": [],
   "source": [
    "#creating three data frames:\n",
    "#inputs part 1:\n",
    "    #non products, basically df_orders\n",
    "    #products_input: basically transpose df_prior and df_train. want order id as the index with each product_id its own column\n",
    "    #products_target: like products_input but lined up so that each is a sequential response to the prior order\n",
    "    \n",
    "    "
   ]
  },
  {
   "cell_type": "code",
   "execution_count": null,
   "metadata": {
    "collapsed": false
   },
   "outputs": [
    {
     "name": "stdout",
     "output_type": "stream",
     "text": [
      "3421083\n"
     ]
    }
   ],
   "source": [
    "#non_products\n",
    "df_orders_train = pd.read_csv(\"orders.csv/orders.csv\")\n",
    "df_orders_train = df_orders_train.fillna(-30)\n",
    "\n",
    "z_break = 0\n",
    "user_ids = df_orders_train['user_id'].unique()\n",
    "print(len(df_orders_train))\n",
    "\n",
    "for i in user_ids:\n",
    "#     z_break += 1\n",
    "#     if z_break > 10:\n",
    "#         break\n",
    "    #print(i,len(df_orders_train))\n",
    "    if len(df_orders_train[(df_orders_train['user_id'] == i) & (df_orders_train['eval_set'] == 'test')]) == 1:\n",
    "        df_orders_train = df_orders_train[df_orders_train['user_id'] != i]\n",
    "        #print(i,len(df_orders_train))\n",
    "        \n",
    "print(len(df_orders_train))\n",
    "df_orders_train.to_csv('input_orders_train.csv',index=False)"
   ]
  },
  {
   "cell_type": "code",
   "execution_count": null,
   "metadata": {
    "collapsed": true
   },
   "outputs": [],
   "source": [
    "df_orders_test = pd.read_csv(\"orders.csv/orders.csv\")\n",
    "df_orders_test = df_orders_test.fillna(-30)\n",
    "\n",
    "z_break = 0\n",
    "user_ids = df_orders_test['user_id'].unique()\n",
    "print(len(df_orders_test))\n",
    "\n",
    "for i in user_ids:\n",
    "#     z_break += 1\n",
    "#     if z_break > 10:\n",
    "#         break\n",
    "    #print(i,len(df_orders_test))\n",
    "    if len(df_orders_test[(df_orders_test['user_id'] == i) & (df_orders_test['eval_set'] == 'train')]) == 1:\n",
    "        df_orders_test = df_orders_test[df_orders_test['user_id'] != i]\n",
    "        #print(i,len(df_orders_test))\n",
    "        \n",
    "print(len(df_orders_test))\n",
    "df_orders_test.to_csv('input_orders_test.csv',index=False)"
   ]
  },
  {
   "cell_type": "code",
   "execution_count": 31,
   "metadata": {
    "collapsed": true
   },
   "outputs": [],
   "source": [
    "#df_orders.to_csv('input_orders.csv',index=False)"
   ]
  },
  {
   "cell_type": "code",
   "execution_count": 120,
   "metadata": {
    "collapsed": false
   },
   "outputs": [
    {
     "name": "stdout",
     "output_type": "stream",
     "text": [
      "206209\n"
     ]
    }
   ],
   "source": []
  },
  {
   "cell_type": "code",
   "execution_count": 130,
   "metadata": {
    "collapsed": false
   },
   "outputs": [
    {
     "name": "stdout",
     "output_type": "stream",
     "text": [
      "    order_id  user_id eval_set  order_number  order_dow  order_hour_of_day  \\\n",
      "10   1187899        1    train            11          4                  8   \n",
      "\n",
      "    days_since_prior_order  \n",
      "10                    14.0  \n"
     ]
    }
   ],
   "source": [
    "# user_id = df_orders['user_id'].unique()\n",
    "# print(len(user_id))\n",
    "# user_batch_orders = df_orders[(df_orders['user_id'] == 1) & (df_orders['eval_set'] == \"train\")]\n",
    "# print(user_batch_orders)"
   ]
  },
  {
   "cell_type": "code",
   "execution_count": null,
   "metadata": {
    "collapsed": true
   },
   "outputs": [],
   "source": []
  },
  {
   "cell_type": "code",
   "execution_count": 162,
   "metadata": {
    "collapsed": false
   },
   "outputs": [],
   "source": [
    "#products input and targets\n",
    "#for training set want both\n",
    "#for test set, just want inputs\n",
    "import pickle\n",
    "\n",
    "user_ids = df_orders['user_id'].unique()\n",
    "\n",
    "current_user_type = None #train or test\n",
    "current_train_batch_count = 0\n",
    "current_test_batch_count = 0\n",
    "train_batch_number = 0\n",
    "test_batch_number = 0\n",
    "input_products = []\n",
    "target_products = []\n",
    "test_products = []\n",
    "z_break = 0\n",
    "\n",
    "for i in user_ids:\n",
    "    \n",
    "#     z_break += 1\n",
    "#     if z_break > 10:\n",
    "#         break\n",
    "        \n",
    "    current_input = []\n",
    "    current_target = []\n",
    "    current_batch = []\n",
    "    \n",
    "    if len(df_orders[(df_orders['user_id'] == i) & (df_orders['eval_set'] == 'train')]) == 1:\n",
    "        current_user_type = \"train\"\n",
    "        current_train_batch_count += 1\n",
    "    else:\n",
    "        current_user_type = \"test\"\n",
    "        current_test_batch_count += 1\n",
    "        \n",
    "    if current_train_batch_count > 1000:\n",
    "        train_batch_number += 1\n",
    "        current_train_batch_count = 0\n",
    "        pickle.dump( np.array(input_products), open( \"train_batch_\" + str(train_batch_number) +  \"_input_products.p\", \"wb\" ) )\n",
    "        pickle.dump( np.array(target_products), open( \"train_batch_\" + str(train_batch_number) + \"_target_products.p\", \"wb\" ) )\n",
    "        input_products = []\n",
    "        target_products = []\n",
    "        \n",
    "    if current_test_batch_count > 1000:\n",
    "        test_batch_number += 1\n",
    "        current_test_batch_count = 0\n",
    "        pickle.dump( np.array(test_products), open( \"test_batch_\" + str(test_batch_number) +  \"_input_products.p\", \"wb\" ) )\n",
    "        test_products = []\n",
    "    \n",
    "    if current_user_type == \"train\":\n",
    "        user_batch_orders = df_orders['order_id'][df_orders['user_id'] == i].tolist()\n",
    "    #    user_batch_orders = df_orders[df_orders['user_id'] == i]\n",
    "        for j in range(0,len(user_batch_orders)):\n",
    "            if j == 0:\n",
    "                products = df_prior['product_id'][df_prior['order_id'] == user_batch_orders[j]]\n",
    "                current_input = products.tolist()\n",
    "                current_input.append(0)\n",
    "                current_input.insert(0,user_batch_orders[j])\n",
    "            else:\n",
    "                if j == len(user_batch_orders) - 1:\n",
    "                    products = df_train['product_id'][df_train['order_id'] == user_batch_orders[j]]\n",
    "                else:\n",
    "                    products = df_prior['product_id'][df_prior['order_id'] == user_batch_orders[j]]\n",
    "                current_target = products.tolist()\n",
    "                current_target.append(0)\n",
    "                current_target.insert(0,user_batch_orders[j])\n",
    "                \n",
    "                input_products.append(current_input)\n",
    "                target_products.append(current_target)\n",
    "                current_input = current_target\n",
    "    else:\n",
    "        user_batch_orders = df_orders['order_id'][(df_orders['user_id'] == i) & (df_orders['eval_set'] == \"prior\")].tolist()\n",
    "        for j in range(0,len(user_batch_orders)):\n",
    "            products = df_prior['product_id'][df_prior['order_id'] == user_batch_orders[j]] \n",
    "            current_input = products.tolist()\n",
    "            current_input.append(0)\n",
    "            current_input.insert(0,user_batch_orders[j])\n",
    "            test_products.append(current_input)\n",
    "    \n",
    "#print(input_products)\n",
    "#print(target_products)\n",
    "#print(test_products)\n",
    "        \n",
    "pickle.dump( np.array(input_products), open( \"train_batch_\" + str(train_batch_number) +  \"_input_products.p\", \"wb\" ) )\n",
    "pickle.dump( np.array(target_products), open( \"train_batch_\" + str(train_batch_number) + \"_target_products.p\", \"wb\" ) )\n",
    "pickle.dump( np.array(test_products), open( \"test_batch_\" + str(test_batch_number) +  \"_input_products.p\", \"wb\" ) )"
   ]
  },
  {
   "cell_type": "code",
   "execution_count": 163,
   "metadata": {
    "collapsed": false
   },
   "outputs": [],
   "source": [
    "#print(len(input_products),len(target_products))\n",
    "#print(df_train[df_train['order_id']==1492625])\n",
    "#print(test[j])\n",
    "#user_batch_orders"
   ]
  },
  {
   "cell_type": "code",
   "execution_count": 168,
   "metadata": {
    "collapsed": false
   },
   "outputs": [
    {
     "name": "stdout",
     "output_type": "stream",
     "text": [
      "[[2398795, 196, 10258, 12427, 13176, 26088, 13032, 0]\n",
      " [473747, 196, 12427, 10258, 25133, 30450, 0]\n",
      " [2254736, 196, 12427, 10258, 25133, 26405, 0]\n",
      " [431534, 196, 12427, 10258, 25133, 10326, 17122, 41787, 13176, 0]\n",
      " [3367565, 196, 12427, 10258, 25133, 0]\n",
      " [550135, 196, 10258, 12427, 25133, 13032, 0]\n",
      " [3108588, 12427, 196, 10258, 25133, 46149, 49235, 0]\n",
      " [2295261, 49235, 46149, 25133, 196, 10258, 12427, 0]\n",
      " [2550362, 196, 46149, 39657, 38928, 25133, 10258, 35951, 13032, 12427, 0]\n",
      " [1187899, 196, 25133, 38928, 26405, 39657, 10258, 13032, 26088, 27845, 49235, 46149, 0]\n",
      " [1501582, 16797, 47526, 8479, 47766, 19051, 8138, 0]\n",
      " [1901567, 47766, 32792, 20574, 7781, 28874, 0]\n",
      " [738281, 49451, 32792, 32139, 34688, 36735, 37646, 22829, 24852, 47209, 33276, 45613, 9681, 21150, 0]\n",
      " [1673511, 47144, 5322, 17224, 38656, 21376, 48210, 5907, 14553, 47553, 22124, 19156, 1559, 47766, 0]\n",
      " [1199898, 32792, 12000, 9681, 32139, 32052, 27344, 24852, 45066, 27966, 47209, 36735, 46676, 33754, 17872, 18523, 24954, 4957, 40571, 41787, 19051, 33276, 0]\n",
      " [3194192, 32792, 12000, 16589, 32052, 19051, 32139, 47209, 24852, 46886, 40198, 17758, 45066, 41787, 34688, 0]\n",
      " [788338, 32792, 28918, 24852, 34688, 48110, 47209, 32052, 17758, 40198, 46886, 22963, 23, 20084, 2002, 5212, 14306, 0]\n",
      " [1718559, 32792, 24852, 12000, 21376, 2002, 7781, 13742, 18961, 15841, 33754, 22124, 19156, 1559, 13351, 18523, 17872, 5450, 22474, 48099, 49273, 47792, 45613, 9124, 22559, 33957, 27737, 0]\n",
      " [1447487, 24852, 12000, 47209, 17872, 18523, 1559, 19156, 2002, 2573, 0]\n",
      " [1402090, 32792, 4071, 19051, 19156, 18523, 1559, 22124, 33754, 22474, 16589, 32139, 8296, 47209, 2002, 21227, 0]\n",
      " [3186735, 32792, 47209, 22124, 19156, 1559, 13351, 3151, 19240, 21709, 10305, 24990, 18523, 36735, 22963, 33754, 16589, 36287, 42356, 12258, 0]\n",
      " [3268552, 42342, 30908, 79, 5869, 44303, 16521, 39877, 19057, 45948, 0]\n",
      " [839880, 24852, 16589, 1559, 19156, 18523, 22825, 27413, 33754, 21709, 47209, 7781, 2573, 39928, 20785, 24768, 7963, 0]\n",
      " [1492625, 22963, 7963, 16589, 32792, 41787, 22825, 13640, 24852, 45066, 9387, 5450, 24838, 38547, 19019, 12007, 26352, 22559, 45613, 31883, 12324, 33957, 5699, 31612, 34284, 48523, 2361, 48821, 11913, 45645, 1757, 21329, 0]\n",
      " [1909121, 43693, 6808, 24535, 11777, 21616, 18761, 26604, 13870, 13988, 0]\n",
      " [2267326, 26604, 11777, 20754, 24231, 40706, 0]\n",
      " [157374, 27344, 24535, 43693, 40706, 16168, 21413, 13988, 3376, 8518, 26604, 11777, 5999, 0]\n",
      " [2196797, 15349, 19057, 16185, 21413, 20843, 20114, 48204, 40706, 21616, 0]\n",
      " [2402008, 4920, 37602, 29871, 22963, 19019, 6361, 31683, 17638, 40852, 27690, 9598, 15581, 45537, 13198, 8518, 274, 43967, 42803, 30391, 19678, 31343, 0]\n",
      " [121053, 10895, 14267, 39121, 42828, 45066, 37999, 45628, 37602, 29871, 22963, 19019, 6361, 31683, 519, 49508, 17638, 40852, 27690, 9598, 15581, 45537, 13198, 43967, 30391, 0]\n",
      " [1695742, 47272, 29993, 21137, 13802, 37999, 14332, 37602, 6361, 31683, 17638, 40852, 27690, 13198, 43967, 42803, 19678, 0]\n",
      " [3321109, 47272, 49235, 21137, 37999, 37602, 19019, 6361, 17638, 40852, 42803, 0]\n",
      " [1682003, 26346, 21137, 42803, 0] [1014379, 8518, 0]\n",
      " [776265, 10895, 39275, 37602, 31683, 17638, 13198, 43967, 42803, 0]\n",
      " [2507052, 29993, 39121, 45628, 39275, 4920, 37602, 31683, 40852, 45537, 30391, 0]\n",
      " [1396119, 10895, 45628, 4920, 17638, 40852, 43967, 30391, 0]\n",
      " [565870, 21137, 45628, 4920, 37602, 31683, 17638, 40852, 13198, 42803, 0]\n",
      " [3239072, 39121, 17638, 40852, 31343, 0]\n",
      " [1175028, 21137, 39275, 37602, 8277, 17638, 40852, 13198, 43967, 30391, 0]\n",
      " [3060817, 21137, 37602, 40852, 30391, 0]\n",
      " [3120740, 32177, 33740, 8277, 21137, 4920, 22742, 29602, 13176, 46969, 21298, 0]\n",
      " [2425840, 37602, 40852, 21137, 17638, 42265, 22000, 35333, 10504, 45066, 4920, 43352, 25199, 12196, 15592, 18382, 23712, 4945, 0]\n",
      " [23391, 13198, 42803, 8277, 37602, 40852, 4920, 4945, 17638, 11520, 32177, 27344, 0]\n",
      " [2984707, 35333, 44661, 26209, 27156, 8518, 31717, 29894, 22000, 23516, 4945, 47623, 18880, 45066, 0]\n",
      " [369015, 47272, 37999, 21137, 12196, 23712, 0]\n",
      " [2452257, 47272, 29993, 31683, 27690, 9598, 13198, 30391, 37602, 21137, 40852, 15592, 32177, 0]\n",
      " [525192, 12053, 47272, 37999, 13198, 43967, 40852, 17638, 29894, 45066, 0]\n",
      " [2979257, 9839, 14992, 26882, 2078, 42736, 18531, 17794, 32197, 11136, 34358, 23165, 21903, 28985, 32030, 43295, 0]\n",
      " [2570360, 23165, 2078, 4799, 33640, 10644, 41540, 15143, 34358, 15937, 17794, 8193, 18479, 18531, 0]\n",
      " [880375, 15937, 5539, 10960, 23165, 22247, 4853, 27104, 7058, 41259, 37803, 48230, 47766, 31717, 21903, 25659, 41540, 48121, 2846, 0]\n",
      " [2762092, 24341, 38159, 27966, 18926, 4957, 26604, 8834, 33787, 27973, 30252, 29594, 0]\n",
      " [1830137, 8834, 30252, 24341, 27973, 29594, 18926, 45767, 6489, 33754, 40571, 42828, 481, 26604, 17600, 2732, 12075, 27596, 10132, 24954, 1559, 8467, 30967, 24952, 34448, 39409, 20899, 21462, 41844, 23765, 42347, 38277, 38988, 27555, 3634, 38777, 0]\n",
      " [1094988, 27555, 42347, 27596, 8834, 26604, 12075, 8467, 38988, 30252, 18926, 24954, 40571, 1559, 33754, 29594, 17600, 42828, 10132, 20899, 27973, 41844, 30967, 0]\n",
      " [68288, 46979, 47380, 20995, 43014, 15011, 27156, 13512, 40604, 13198, 9339, 5646, 28986, 27104, 41220, 22825, 34358, 44910, 15290, 14992, 36695, 47042, 23165, 15937, 25931, 5818, 1529, 32537, 11782, 30489, 36735, 18441, 15392, 7632, 32299, 48204, 28535, 34128, 8988, 13212, 7746, 35973, 35725, 45664, 16857, 31506, 47526, 0]\n",
      " [2115522, 47380, 5769, 13629, 40706, 45007, 44359, 17794, 19678, 5450, 26940, 48775, 21174, 18656, 30305, 37687, 43352, 26209, 47626, 16797, 4920, 39877, 47788, 34126, 28842, 21833, 42342, 28928, 28535, 30489, 11068, 47526, 42736, 13083, 0]\n",
      " [83395, 30489, 47591, 24184, 260, 9339, 38293, 17828, 9871, 46979, 28535, 47526, 19019, 23879, 40604, 22035, 36865, 31506, 13829, 23541, 28842, 42625, 1529, 20920, 42647, 25931, 20632, 40706, 47042, 16797, 16185, 0]\n",
      " [1353310, 30489, 47591, 24184, 260, 9339, 17828, 9871, 46979, 28535, 47526, 19019, 23879, 40604, 22035, 36865, 31506, 13829, 23541, 28842, 42625, 1529, 20920, 42647, 25931, 20632, 40706, 47042, 16797, 16185, 0]\n",
      " [1822501, 29650, 48720, 24654, 10177, 0]]\n"
     ]
    }
   ],
   "source": [
    "# pickle.dump( np.array(input_products), open( \"train_batch_\" + str(train_batch_number) +  \"_input_products.p\", \"wb\" ) )\n",
    "# pickle.dump( np.array(target_products), open( \"train_batch_\" + str(train_batch_number) + \"_target_products.p\", \"wb\" ) )\n",
    "# pickle.dump( np.array(test_products), open( \"test_batch_\" + str(test_batch_number) +  \"_input_products.p\", \"wb\" ) )\n",
    "\n",
    "#test1 = pickle.load(open(\"train_batch_\" + str(train_batch_number) +  \"_input_products.p\",\"rb\")) #pickle.load( open( \"image_count_dict.p\", \"rb\" ) )\n",
    "#print(test1)\n",
    "#test2 = pickle.load(open(\"train_batch_\" + str(train_batch_number) + \"_target_products.p\",\"rb\")) #pickle.load( open( \"image_count_dict.p\", \"rb\" ) )\n",
    "#print(test2)\n",
    "#test3 = pickle.load(open(\"test_batch_\" + str(test_batch_number) +  \"_input_products.p\",\"rb\")) #pickle.load( open( \"image_count_dict.p\", \"rb\" ) )\n",
    "#print(test3)\n"
   ]
  },
  {
   "cell_type": "code",
   "execution_count": 161,
   "metadata": {
    "collapsed": false
   },
   "outputs": [],
   "source": [
    "# #products input and targets\n",
    "# #saving in batches of 1000 customer ids\n",
    "# import pickle\n",
    "\n",
    "# user_id = df_orders['user_id']\n",
    "# order_ids = df_orders['order_id']\n",
    "# eval_set = df_orders['eval_set']\n",
    "\n",
    "# input_products = []\n",
    "# target_products = []\n",
    "# len_orders = len(order_ids)\n",
    "# z_break = 0\n",
    "\n",
    "# current_input = []\n",
    "# current_target = []\n",
    "# current_user_id = None\n",
    "# current_user_type = None #train or test\n",
    "# current_batch_count = 0\n",
    "# batch_number = 0\n",
    "\n",
    "\n",
    "# for i in range(0,len_orders-1):\n",
    "#     z_break += 1\n",
    "#     if z_break > 100:\n",
    "#         break\n",
    "    \n",
    "#     if user_id[i] != current_user_id:\n",
    "#         current_user_id = user_id[i]\n",
    "#         #see if customer is in the train or test set\n",
    "#         if len(df_orders['user_id'][df_orders['eval_set'] == 'train']) == 1:\n",
    "#             current_user_type = \"train\"\n",
    "#         else:\n",
    "#             current_user_type = \"test\"\n",
    "#         current_batch_count += 1\n",
    "        \n",
    "#     if current_batch_count > 1000:\n",
    "#         batch_number += 1\n",
    "#         current_batch_count = 0\n",
    "#         pickle.dump( np.array(input_products), open( \"batch_\" + str(batch_number) +  \"_input_products.p\", \"wb\" ) )\n",
    "#         pickle.dump( np.array(target_products), open( \"batch_\" + str(batch_number) + \"_target_products.p\", \"wb\" ) )\n",
    "    \n",
    "    \n",
    "#     if i == 0:\n",
    "#         if eval_set[i] == 'prior':\n",
    "#             products = df_prior['product_id'][df_prior['order_id'] == order_ids[i]]\n",
    "#         elif eval_set[i] == 'train':\n",
    "#             products = df_train['product_id'][df_train['order_id'] == order_ids[i]]\n",
    "#         current_input = products.tolist()\n",
    "#         current_input.append(0)\n",
    "#         current_input.insert(0,order_ids[i])\n",
    "        \n",
    "#     else:\n",
    "#         current_input = current_target\n",
    "#         current_target = []\n",
    "        \n",
    "#     #current_target.append(order_ids[i+1])\n",
    "#     if eval_set[i] == 'prior':\n",
    "#         products = df_prior['product_id'][df_prior['order_id'] == order_ids[i+1]]\n",
    "#     elif eval_set[i] == 'train':\n",
    "#         products = df_train['product_id'][df_train['order_id'] == order_ids[i+1]]\n",
    "    \n",
    "#     current_target = products.tolist()\n",
    "#     current_target.append(0)\n",
    "#     current_target.insert(0,order_ids[i+1])\n",
    "    \n",
    "#     input_products.append(current_input)\n",
    "#     target_products.append(current_target)\n",
    "    \n",
    "# #saves the last batch\n",
    "# pickle.dump( np.array(input_products), open( \"batch_\" + str(batch_number) +  \"_input_products.p\", \"wb\" ) )\n",
    "# pickle.dump( np.array(target_products), open( \"batch_\" + str(batch_number) + \"_target_products.p\", \"wb\" ) )\n",
    "\n",
    "# #print(input_products)\n",
    "# #print(target_products)\n",
    "# #print(np.array(input_products))\n",
    "# #print(np.array(target_products))"
   ]
  },
  {
   "cell_type": "code",
   "execution_count": null,
   "metadata": {
    "collapsed": false
   },
   "outputs": [],
   "source": [
    "# import pickle\n",
    "\n",
    "# pickle.dump( np.array(input_products), open( \"input_products.p\", \"wb\" ) )\n",
    "# pickle.dump( np.array(target_products), open( \"target_products.p\", \"wb\" ) )\n"
   ]
  },
  {
   "cell_type": "code",
   "execution_count": null,
   "metadata": {
    "collapsed": true
   },
   "outputs": [],
   "source": [
    "#DONE NEED TO CREATE EQUIVALENT SHIT FOR TEST SET\n",
    "#DONE MIGHT WANT TO ADD CUSTOMER NUMBER OF ORDERS AS A VARIABLE SOMEWHERE BASED ON HOW I\"M DOING BATCHES\n",
    "    #not needed, linked through order ids\n",
    "#DONE I FUCKED UP, FOR THE NEXT CUSTOMER I CAN'T USE THE PRIOR CUSTOMERS LAST ORDER"
   ]
  },
  {
   "cell_type": "code",
   "execution_count": 108,
   "metadata": {
    "collapsed": false
   },
   "outputs": [],
   "source": [
    "\n"
   ]
  },
  {
   "cell_type": "code",
   "execution_count": 115,
   "metadata": {
    "collapsed": false
   },
   "outputs": [],
   "source": [
    "# for i in range(1,10):\n",
    "#     print(test1[i][0],test2[i-1][0])\n",
    "#     #print(test2[i+1][0])\n",
    "#     if test1[i][0] == test2[i-1][0]:\n",
    "#         print(\"test\")\n",
    "    "
   ]
  },
  {
   "cell_type": "code",
   "execution_count": null,
   "metadata": {
    "collapsed": true
   },
   "outputs": [],
   "source": [
    "#ip_array = np.asarray(input_products)#np.asarray(test,dtype=np.int32)\n",
    "#print(ip_array)\n",
    "#print(ip_array.shape)\n",
    "#np.savetxt(\"input_products.csv\", ip_array, delimiter=\",\")\n",
    "\n",
    "# tp_array = np.asarray(target_products,dtype=np.int32)\n",
    "# np.savetxt(\"target_products.csv\", tp_array, delimiter=\",\",fmt='%i')"
   ]
  }
 ],
 "metadata": {
  "anaconda-cloud": {},
  "kernelspec": {
   "display_name": "Python [conda env:tf35]",
   "language": "python",
   "name": "conda-env-tf35-py"
  },
  "language_info": {
   "codemirror_mode": {
    "name": "ipython",
    "version": 3
   },
   "file_extension": ".py",
   "mimetype": "text/x-python",
   "name": "python",
   "nbconvert_exporter": "python",
   "pygments_lexer": "ipython3",
   "version": "3.5.2"
  }
 },
 "nbformat": 4,
 "nbformat_minor": 1
}
